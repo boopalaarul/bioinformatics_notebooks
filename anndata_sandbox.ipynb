{
 "cells": [
  {
   "cell_type": "markdown",
   "metadata": {},
   "source": [
    "This is a set of exercises to familiarize myself with the uses of the AnnData matrix storage format. It is designed primarily so that I can use it as a future reference. The code used here is, my own additions aside, mainly sourced from the Read The Docs AnnData tutorial and other resources."
   ]
  },
  {
   "cell_type": "code",
   "execution_count": 22,
   "metadata": {},
   "outputs": [
    {
     "name": "stdout",
     "output_type": "stream",
     "text": [
      "0.10.4\n",
      "Nonzero cells: 126140, proportion 0.6307 of total\n"
     ]
    }
   ],
   "source": [
    "import pandas as pd \n",
    "from scipy.sparse import csr_matrix\n",
    "import anndata as ad \n",
    "import numpy as np \n",
    "print(ad.__version__)\n",
    "\n",
    "#storing in csr matrix is optional, but will make a sparse matrix (plenty of zeroes) take up\n",
    "#less space\n",
    "counts = csr_matrix(np.random.poisson(1, size=(100, 2000)), dtype=np.float32)\n",
    "print(f\"Nonzero cells: {counts.count_nonzero()}, \\\n",
    "proportion {counts.count_nonzero() / (100 * 2000)} of total\")\n",
    "\n",
    "adata = ad.AnnData(counts)"
   ]
  },
  {
   "cell_type": "code",
   "execution_count": 23,
   "metadata": {},
   "outputs": [
    {
     "name": "stdout",
     "output_type": "stream",
     "text": [
      "100 observations, 2000 features, (100, 2000)\n"
     ]
    },
    {
     "data": {
      "text/plain": [
       "View of AnnData object with n_obs × n_vars = 2 × 3"
      ]
     },
     "execution_count": 23,
     "metadata": {},
     "output_type": "execute_result"
    }
   ],
   "source": [
    "print(f\"{len(adata.obs)} observations, {len(adata.var)} features, {np.shape(adata.X)}\")\n",
    "adata.X\n",
    "adata.obs_names = [f\"Cell_{i}\" for i in adata.obs_names] #should be 100 total\n",
    "adata.var_names = [f\"Gene_{i}\" for i in adata.var_names] #should be 2000 total\n",
    "adata[[\"Cell_9\", \"Cell_10\"], [\"Gene_0\", \"Gene_2\", \"Gene_10\"]]\n"
   ]
  },
  {
   "cell_type": "code",
   "execution_count": 28,
   "metadata": {},
   "outputs": [
    {
     "data": {
      "text/plain": [
       "AnnData object with n_obs × n_vars = 100 × 2000\n",
       "    obs: 'cell_type'"
      ]
     },
     "execution_count": 28,
     "metadata": {},
     "output_type": "execute_result"
    }
   ],
   "source": [
    "type(adata.obs)\n",
    "#add metadata by adding extra columns to obs and var\n",
    "celltypes = np.random.choice([\"B\", \"T\", \"Monocyte\"], size=adata.n_obs)\n",
    "adata.obs[\"cell_type\"] = celltypes\n",
    "adata.obs[:10]\n",
    "adata #description of overall object will now list extra columns added to obs or to var"
   ]
  },
  {
   "cell_type": "code",
   "execution_count": 32,
   "metadata": {},
   "outputs": [
    {
     "data": {
      "text/plain": [
       "View of AnnData object with n_obs × n_vars = 33 × 2000\n",
       "    obs: 'cell_type'"
      ]
     },
     "execution_count": 32,
     "metadata": {},
     "output_type": "execute_result"
    }
   ],
   "source": [
    "adata[adata.obs.cell_type == \"T\"]"
   ]
  },
  {
   "cell_type": "code",
   "execution_count": 33,
   "metadata": {},
   "outputs": [
    {
     "name": "stderr",
     "output_type": "stream",
     "text": [
      "/home/smeeren/.local/lib/python3.10/site-packages/tqdm/auto.py:21: TqdmWarning: IProgress not found. Please update jupyter and ipywidgets. See https://ipywidgets.readthedocs.io/en/stable/user_install.html\n",
      "  from .autonotebook import tqdm as notebook_tqdm\n"
     ]
    },
    {
     "data": {
      "text/plain": [
       "'0.5.5'"
      ]
     },
     "execution_count": 33,
     "metadata": {},
     "output_type": "execute_result"
    }
   ],
   "source": [
    "import umap\n",
    "from sklearn.preprocessing import StandardScaler\n",
    "\n",
    "reducer = umap.UMAP()\n",
    "scaled_data = StandardScaler().fit_transform(adata.X)\n",
    "embedding = reducer.fit_transform(scaled_data)\n"
   ]
  }
 ],
 "metadata": {
  "kernelspec": {
   "display_name": "Python 3",
   "language": "python",
   "name": "python3"
  },
  "language_info": {
   "codemirror_mode": {
    "name": "ipython",
    "version": 3
   },
   "file_extension": ".py",
   "mimetype": "text/x-python",
   "name": "python",
   "nbconvert_exporter": "python",
   "pygments_lexer": "ipython3",
   "version": "3.10.12"
  }
 },
 "nbformat": 4,
 "nbformat_minor": 2
}
